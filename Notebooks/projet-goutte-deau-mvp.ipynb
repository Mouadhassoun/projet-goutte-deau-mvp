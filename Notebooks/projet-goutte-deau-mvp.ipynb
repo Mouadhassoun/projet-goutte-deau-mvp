{
  "cells": [
    {
      "cell_type": "markdown",
      "source": [
        "API données"
      ],
      "metadata": {
        "id": "LjKnJJZbGo0-"
      }
    },
    {
      "cell_type": "code",
      "execution_count": null,
      "metadata": {
        "id": "2rxbBeMdP4NG"
      },
      "outputs": [],
      "source": [
        "import requests\n",
        "import pandas as pd\n",
        "from datetime import datetime, timedelta\n",
        "\n",
        "def fetch_open_meteo_history(lat, lon, start_date, end_date, timezone):\n",
        "    \"\"\"\n",
        "    Récupère l'historique via l'API ERA5 d'Open‑Meteo.\n",
        "    \"\"\"\n",
        "    url = \"https://archive-api.open-meteo.com/v1/era5\"\n",
        "    params = {\n",
        "        \"latitude\": lat,\n",
        "        \"longitude\": lon,\n",
        "        \"start_date\": start_date,\n",
        "        \"end_date\": end_date,\n",
        "        \"hourly\": \"precipitation,temperature_2m,relativehumidity_2m,pressure_msl\",\n",
        "        \"timezone\": timezone\n",
        "    }\n",
        "    resp = requests.get(url, params=params)\n",
        "    resp.raise_for_status()\n",
        "    data = resp.json()[\"hourly\"]\n",
        "    df = pd.DataFrame(data)\n",
        "    df[\"time\"] = pd.to_datetime(df[\"time\"])\n",
        "    df.set_index(\"time\", inplace=True)\n",
        "    return df\n",
        "\n",
        "df = fetch_open_meteo_history(\n",
        "    lat=48.85, lon=2.35,\n",
        "    start_date=\"1950-01-01\", end_date=\"2025-07-01\",\n",
        "    timezone=\"Europe/Paris\",\n",
        ")"
      ]
    },
    {
      "cell_type": "markdown",
      "source": [
        "Précipitations journalières"
      ],
      "metadata": {
        "id": "Sl2v1VigGsTv"
      }
    },
    {
      "cell_type": "code",
      "source": [
        "daily = df[\"precipitation\"].resample(\"D\").sum()\n",
        "daily = daily.to_frame(\"precip_mm\")\n",
        "daily[\"rain_binary\"] = (daily[\"precip_mm\"] > 0).astype(int)\n",
        "print(daily.head(10))"
      ],
      "metadata": {
        "id": "poX_133ubbYE"
      },
      "execution_count": null,
      "outputs": []
    },
    {
      "cell_type": "markdown",
      "source": [
        "Statistiques descriptives"
      ],
      "metadata": {
        "id": "h3vt5UyBGwSN"
      }
    },
    {
      "cell_type": "code",
      "source": [
        "daily.describe()"
      ],
      "metadata": {
        "id": "0UmLCqwfAFG2"
      },
      "execution_count": null,
      "outputs": []
    },
    {
      "cell_type": "markdown",
      "source": [
        "Distribution des précipitations journalières"
      ],
      "metadata": {
        "id": "1v-QakYhG4iL"
      }
    },
    {
      "cell_type": "code",
      "source": [
        "import matplotlib.pyplot as plt\n",
        "plt.hist(daily[\"precip_mm\"], bins=30)\n",
        "plt.title(\"Distribution des mm de pluie journaliers\")\n",
        "plt.xlabel(\"Précipitations (mm)\")\n",
        "plt.ylabel(\"Effectif de jours\")\n",
        "plt.show()"
      ],
      "metadata": {
        "id": "duV4iRE3_6Wf"
      },
      "execution_count": null,
      "outputs": []
    },
    {
      "cell_type": "markdown",
      "source": [
        "Evolution temporelle du volume de pluie"
      ],
      "metadata": {
        "id": "Jys163WOH01G"
      }
    },
    {
      "cell_type": "code",
      "source": [
        "daily[\"precip_mm\"].plot()\n",
        "plt.title(\"Série temporelle des précipitations journalières\")\n",
        "plt.ylabel(\"Précipitations (mm)\")\n",
        "plt.show()"
      ],
      "metadata": {
        "id": "0y6MZG13BZUv"
      },
      "execution_count": null,
      "outputs": []
    },
    {
      "cell_type": "markdown",
      "source": [
        "Part des journées avec pluie vs sans pluie"
      ],
      "metadata": {
        "id": "Yij5d0vQIAvD"
      }
    },
    {
      "cell_type": "code",
      "source": [
        "counts = daily[\"rain_binary\"].value_counts().sort_index()\n",
        "counts.index = [\"Pas de pluie\", \"Pluie\"]\n",
        "counts.plot(kind=\"bar\")\n",
        "plt.title(\"Nombre de jours sans/pluie sur la période\")\n",
        "plt.ylabel(\"Nombre de jours\")\n",
        "plt.show()"
      ],
      "metadata": {
        "id": "0jjZpzkuIA7O"
      },
      "execution_count": null,
      "outputs": []
    },
    {
      "cell_type": "code",
      "source": [
        "daily = df.resample(\"D\").agg({\n",
        "    \"precipitation\": \"sum\",\n",
        "    \"temperature_2m\": \"mean\",\n",
        "    \"relativehumidity_2m\": \"mean\",\n",
        "    \"pressure_msl\": \"mean\"\n",
        "}).rename(columns={\n",
        "    \"precipitation\": \"precip_mm\",\n",
        "    \"temperature_2m\": \"temp_mean\",\n",
        "    \"relativehumidity_2m\": \"rh_mean\",\n",
        "    \"pressure_msl\": \"press_mean\"\n",
        "})\n",
        "daily[\"rain_binary\"] = (daily[\"precip_mm\"] > 0).astype(int)"
      ],
      "metadata": {
        "id": "4P_FFaI9M5SQ"
      },
      "execution_count": null,
      "outputs": []
    },
    {
      "cell_type": "markdown",
      "source": [
        "Feature Engineering"
      ],
      "metadata": {
        "id": "JSwjTNOgQgdq"
      }
    },
    {
      "cell_type": "code",
      "source": [
        "import numpy as np\n",
        "\n",
        "daily[\"precip_lag1\"] = daily[\"precip_mm\"].shift(1)\n",
        "daily[\"temp_lag1\"]   = daily[\"temp_mean\"].shift(1)\n",
        "daily[\"rh_lag1\"]     = daily[\"rh_mean\"].shift(1)\n",
        "daily[\"press_lag1\"]  = daily[\"press_mean\"].shift(1)\n",
        "\n",
        "daily[\"month\"] = daily.index.month\n",
        "daily[\"month_sin\"] = np.sin(2 * np.pi * daily[\"month\"] / 12)\n",
        "daily[\"month_cos\"] = np.cos(2 * np.pi * daily[\"month\"] / 12)\n",
        "\n",
        "daily = daily.dropna()\n",
        "\n",
        "daily.head()"
      ],
      "metadata": {
        "id": "ZAxi3Qb9NA1e"
      },
      "execution_count": null,
      "outputs": []
    },
    {
      "cell_type": "markdown",
      "source": [
        "RandomForest avec features météo + saison"
      ],
      "metadata": {
        "id": "kwjtHipHQoea"
      }
    },
    {
      "cell_type": "code",
      "source": [
        "from sklearn.model_selection import train_test_split\n",
        "from sklearn.ensemble import RandomForestClassifier\n",
        "from sklearn.metrics import classification_report, roc_auc_score\n",
        "\n",
        "feature_cols = [\n",
        "    \"precip_lag1\",\n",
        "    \"temp_lag1\",\n",
        "    \"rh_lag1\",\n",
        "    \"press_lag1\",\n",
        "]\n",
        "X = daily[feature_cols]\n",
        "y = daily[\"rain_binary\"]\n",
        "\n",
        "X_train, X_test, y_train, y_test = train_test_split(\n",
        "    X, y, test_size=0.2, shuffle=False\n",
        ")\n",
        "\n",
        "model = RandomForestClassifier(n_estimators=100, random_state=42)\n",
        "model.fit(X_train, y_train)\n",
        "\n",
        "y_pred = model.predict(X_test)\n",
        "y_prob = model.predict_proba(X_test)[:, 1]\n",
        "\n",
        "print(classification_report(y_test, y_pred))\n",
        "print(\"ROC AUC:\", roc_auc_score(y_test, y_prob))"
      ],
      "metadata": {
        "id": "sMDqCNORO9uY"
      },
      "execution_count": null,
      "outputs": []
    },
    {
      "cell_type": "code",
      "source": [
        "feature_cols = [\n",
        "    \"precip_lag1\",\n",
        "    \"temp_lag1\",\n",
        "    \"rh_lag1\",\n",
        "    \"press_lag1\",\n",
        "    \"month_sin\",\n",
        "    \"month_cos\"\n",
        "]\n",
        "X = daily[feature_cols]\n",
        "y = daily[\"rain_binary\"]\n",
        "\n",
        "X_train, X_test, y_train, y_test = train_test_split(\n",
        "    X, y, test_size=0.2, shuffle=False\n",
        ")\n",
        "\n",
        "model = RandomForestClassifier(n_estimators=100, random_state=42)\n",
        "model.fit(X_train, y_train)\n",
        "\n",
        "y_pred = model.predict(X_test)\n",
        "y_prob = model.predict_proba(X_test)[:, 1]\n",
        "\n",
        "print(classification_report(y_test, y_pred))\n",
        "print(\"ROC AUC:\", roc_auc_score(y_test, y_prob))"
      ],
      "metadata": {
        "id": "E7L2ZNVrPfPb"
      },
      "execution_count": null,
      "outputs": []
    },
    {
      "cell_type": "markdown",
      "source": [
        "Belle amélioration !\n",
        "\n",
        "Variante\tROC AUC\n",
        "Sans encodage cyclique\t0.7449\n",
        "Avec sin/cos\t0.7595\n",
        "\n",
        "C’est un gain d’environ 1,5 point d’AUC juste en représentant correctement la saisonnalité – ça vaut clairement le coup de conserver cet encodage !"
      ],
      "metadata": {
        "id": "PIokA2zmQ5hz"
      }
    },
    {
      "cell_type": "markdown",
      "source": [
        "Rolling 3‑jours"
      ],
      "metadata": {
        "id": "aDYa289SR_sV"
      }
    },
    {
      "cell_type": "code",
      "source": [
        "daily[\"temp_3d_ma\"]     = daily[\"temp_mean\"].rolling(3).mean().shift(1)\n",
        "daily[\"rh_3d_ma\"]       = daily[\"rh_mean\"].rolling(3).mean().shift(1)\n",
        "daily[\"press_3d_ma\"]    = daily[\"press_mean\"].rolling(3).mean().shift(1)\n",
        "daily[\"precip_3d_sum\"]  = daily[\"precip_mm\"].rolling(3).sum().shift(1)"
      ],
      "metadata": {
        "id": "rRlwi5H_PmgO"
      },
      "execution_count": null,
      "outputs": []
    },
    {
      "cell_type": "markdown",
      "source": [
        "Heavy‑rain flag"
      ],
      "metadata": {
        "id": "FosmkIH6SFXV"
      }
    },
    {
      "cell_type": "code",
      "source": [
        "daily[\"heavy_rain_lag1\"] = (daily[\"precip_mm\"].shift(1) > 20).astype(int)"
      ],
      "metadata": {
        "id": "TfYjgnLwSEUT"
      },
      "execution_count": null,
      "outputs": []
    },
    {
      "cell_type": "code",
      "source": [
        "daily = daily.dropna()"
      ],
      "metadata": {
        "id": "CNKCFSKUSJFi"
      },
      "execution_count": null,
      "outputs": []
    },
    {
      "cell_type": "code",
      "source": [
        "feature_cols = [\n",
        "    \"precip_lag1\",\n",
        "    \"temp_lag1\",\n",
        "    \"rh_lag1\",\n",
        "    \"press_lag1\",\n",
        "    \"month_sin\",\n",
        "    \"month_cos\",\n",
        "    \"temp_3d_ma\",\n",
        "    \"rh_3d_ma\",\n",
        "    \"press_3d_ma\",\n",
        "    \"precip_3d_sum\",\n",
        "    \"heavy_rain_lag1\"\n",
        "]\n",
        "X = daily[feature_cols]\n",
        "y = daily[\"rain_binary\"]\n",
        "\n",
        "X_train, X_test, y_train, y_test = train_test_split(\n",
        "    X, y, test_size=0.2, shuffle=False\n",
        ")\n",
        "\n",
        "model = RandomForestClassifier(n_estimators=100, random_state=42)\n",
        "model.fit(X_train, y_train)\n",
        "\n",
        "y_pred = model.predict(X_test)\n",
        "y_prob = model.predict_proba(X_test)[:, 1]\n",
        "\n",
        "print(classification_report(y_test, y_pred))\n",
        "print(\"ROC AUC:\", roc_auc_score(y_test, y_prob))"
      ],
      "metadata": {
        "id": "h2e6yGOgSQly"
      },
      "execution_count": null,
      "outputs": []
    },
    {
      "cell_type": "markdown",
      "source": [
        "On observe un nouveau bond de performance :\n",
        "\n",
        "Accuracy passée de 0.70 → 0.72\n",
        "\n",
        "ROC AUC de 0.7595 → 0.7718\n",
        "\n",
        "C’est un gain non négligeable (+1.2 point d’AUC) simplement en incorporant les moyennes glissantes et le flag “heavy rain”."
      ],
      "metadata": {
        "id": "f947oK2_S4yp"
      }
    },
    {
      "cell_type": "markdown",
      "source": [
        "Interprétation\n",
        "\n",
        "1) Rolling 3 jours lisse suffisamment le bruit quotidien pour capter la persistance météo.\n",
        "\n",
        "2) Heavy rain lag1 signale efficacement les épisodes intenses qui souvent précèdent un front pluvieux.\n",
        "\n",
        "3) On reste sur un RandomForest, qui exploite bien ces variables continues et binaires."
      ],
      "metadata": {
        "id": "NKEZ3U_TTAcs"
      }
    },
    {
      "cell_type": "markdown",
      "source": [
        "Création de nouvelles features rolling (5 et 7 jours)"
      ],
      "metadata": {
        "id": "yHoRQcJfZJQA"
      }
    },
    {
      "cell_type": "code",
      "source": [
        "for window in [5, 7]:\n",
        "    daily[f\"temp_{window}d_ma\"]    = daily[\"temp_mean\"].rolling(window).mean().shift(1)\n",
        "    daily[f\"rh_{window}d_ma\"]      = daily[\"rh_mean\"].rolling(window).mean().shift(1)\n",
        "    daily[f\"press_{window}d_ma\"]   = daily[\"press_mean\"].rolling(window).mean().shift(1)\n",
        "    daily[f\"precip_{window}d_sum\"] = daily[\"precip_mm\"].rolling(window).sum().shift(1)\n",
        "\n",
        "daily = daily.dropna()\n",
        "daily.head()"
      ],
      "metadata": {
        "id": "lZ7AYJU2YgUK"
      },
      "execution_count": null,
      "outputs": []
    },
    {
      "cell_type": "markdown",
      "source": [
        "Entraînement d'un XGBoost avec ces nouvelles features"
      ],
      "metadata": {
        "id": "RKXjLTAXZNhv"
      }
    },
    {
      "cell_type": "code",
      "source": [
        "import xgboost as xgb\n",
        "\n",
        "feature_cols = [\n",
        "    \"precip_lag1\", \"temp_lag1\", \"rh_lag1\", \"press_lag1\",\n",
        "    \"temp_3d_ma\", \"rh_3d_ma\", \"press_3d_ma\", \"precip_3d_sum\",\n",
        "    \"temp_5d_ma\", \"rh_5d_ma\", \"press_5d_ma\", \"precip_5d_sum\",\n",
        "    \"temp_7d_ma\", \"rh_7d_ma\", \"press_7d_ma\", \"precip_7d_sum\",\n",
        "    \"month_sin\", \"month_cos\"\n",
        "]\n",
        "\n",
        "X = daily[feature_cols]\n",
        "y = daily[\"rain_binary\"]\n",
        "\n",
        "X_train, X_test, y_train, y_test = train_test_split(\n",
        "    X, y, test_size=0.2, shuffle=False\n",
        ")\n",
        "\n",
        "dtrain = xgb.DMatrix(X_train, label=y_train)\n",
        "dtest  = xgb.DMatrix(X_test,  label=y_test)\n",
        "\n",
        "params = {\n",
        "    \"objective\": \"binary:logistic\",\n",
        "    \"eval_metric\": \"auc\",\n",
        "    \"seed\": 42\n",
        "}\n",
        "\n",
        "bst = xgb.train(\n",
        "    params,\n",
        "    dtrain,\n",
        "    num_boost_round=100,\n",
        "    evals=[(dtrain, \"train\"), (dtest, \"test\")],\n",
        "    early_stopping_rounds=10,\n",
        "    verbose_eval=False\n",
        ")\n",
        "\n",
        "y_prob = bst.predict(dtest)\n",
        "y_pred = (y_prob > 0.5).astype(int)\n",
        "\n",
        "print(classification_report(y_test, y_pred))\n",
        "print(\"ROC AUC:\", roc_auc_score(y_test, y_prob))"
      ],
      "metadata": {
        "id": "muSAKia4YiN5"
      },
      "execution_count": null,
      "outputs": []
    },
    {
      "cell_type": "markdown",
      "source": [
        "Précision & recall du positif sont légèrement améliorés (recall 0.78 → 0.79), ce qui veut dire qu’on capte un peu mieux les jours de pluie.\n",
        "\n",
        "ROC AUC à 0.7789 confirme que le modèle distingue plus finement les cas pluie/non‑pluie."
      ],
      "metadata": {
        "id": "bSIJqDSKZgg0"
      }
    },
    {
      "cell_type": "markdown",
      "source": [
        "Importance des features"
      ],
      "metadata": {
        "id": "kAsMLDZ6Z6Yr"
      }
    },
    {
      "cell_type": "code",
      "source": [
        "importance_dict = bst.get_score(importance_type=\"gain\")\n",
        "\n",
        "feat_imp = pd.DataFrame({\n",
        "    \"feature\": list(importance_dict.keys()),\n",
        "    \"gain\": list(importance_dict.values())\n",
        "}).sort_values(\"gain\", ascending=False)\n",
        "\n",
        "feat_imp[\"gain_pct\"] = 100 * feat_imp[\"gain\"] / feat_imp[\"gain\"].sum()\n",
        "\n",
        "feat_imp.reset_index(drop=True, inplace=True)\n",
        "feat_imp.head(10)"
      ],
      "metadata": {
        "id": "EQj7LR3WYkvy"
      },
      "execution_count": null,
      "outputs": []
    },
    {
      "cell_type": "code",
      "source": [
        "top_n = 10\n",
        "plt.figure(figsize=(8, 6))\n",
        "plt.barh(feat_imp[\"feature\"].iloc[:top_n][::-1], feat_imp[\"gain_pct\"].iloc[:top_n][::-1])\n",
        "plt.xlabel(\"Importance (% du gain total)\")\n",
        "plt.title(f\"Top {top_n} features par XGBoost\")\n",
        "plt.tight_layout()\n",
        "plt.show()"
      ],
      "metadata": {
        "id": "4vr0SVVjZmjL"
      },
      "execution_count": null,
      "outputs": []
    },
    {
      "cell_type": "markdown",
      "source": [
        "Sélection des features par importance"
      ],
      "metadata": {
        "id": "Qg5-ZCgIaKHv"
      }
    },
    {
      "cell_type": "code",
      "source": [
        "selected = feat_imp.loc[feat_imp[\"gain_pct\"] > 2.5, \"feature\"].tolist()\n",
        "print(\"Features retenues :\", selected)"
      ],
      "metadata": {
        "id": "rGScxzJLZpuF"
      },
      "execution_count": null,
      "outputs": []
    },
    {
      "cell_type": "code",
      "source": [
        "X = daily[selected]\n",
        "y = daily[\"rain_binary\"]\n",
        "\n",
        "X_train, X_test, y_train, y_test = train_test_split(\n",
        "    X, y, test_size=0.2, shuffle=False\n",
        ")\n",
        "\n",
        "dtrain = xgb.DMatrix(X_train, label=y_train)\n",
        "dtest  = xgb.DMatrix(X_test,  label=y_test)\n",
        "\n",
        "params = {\n",
        "    \"objective\": \"binary:logistic\",\n",
        "    \"eval_metric\": \"auc\",\n",
        "    \"seed\": 42\n",
        "}\n",
        "\n",
        "bst_sel = xgb.train(\n",
        "    params,\n",
        "    dtrain,\n",
        "    num_boost_round=bst.best_iteration,\n",
        "    evals=[(dtrain, \"train\"), (dtest, \"test\")],\n",
        "    verbose_eval=False\n",
        ")\n",
        "\n",
        "y_prob_sel = bst_sel.predict(dtest)\n",
        "y_pred_sel = (y_prob_sel > 0.5).astype(int)\n",
        "\n",
        "print(classification_report(y_test, y_pred_sel))\n",
        "print(\"ROC AUC:\", roc_auc_score(y_test, y_prob_sel))"
      ],
      "metadata": {
        "id": "fhJuUlGLaHIt"
      },
      "execution_count": null,
      "outputs": []
    },
    {
      "cell_type": "code",
      "source": [
        "from sklearn.model_selection import RandomizedSearchCV, TimeSeriesSplit\n",
        "from xgboost import XGBClassifier\n",
        "\n",
        "\n",
        "\n",
        "X = daily[selected]\n",
        "y = daily[\"rain_binary\"]\n",
        "\n",
        "tscv = TimeSeriesSplit(n_splits=5)\n",
        "\n",
        "param_dist = {\n",
        "    \"n_estimators\": [50, 100, 200],\n",
        "    \"max_depth\": [3, 5, 7, 9],\n",
        "    \"learning_rate\": [0.01, 0.05, 0.1, 0.2],\n",
        "    \"subsample\": [0.6, 0.8, 1.0],\n",
        "    \"colsample_bytree\": [0.6, 0.8, 1.0]\n",
        "}\n",
        "\n",
        "xgb_clf = XGBClassifier(use_label_encoder=False, eval_metric=\"auc\", seed=42)\n",
        "\n",
        "search = RandomizedSearchCV(\n",
        "    estimator=xgb_clf,\n",
        "    param_distributions=param_dist,\n",
        "    n_iter=20,\n",
        "    scoring=\"roc_auc\",\n",
        "    cv=tscv,\n",
        "    verbose=1,\n",
        "    n_jobs=-1,\n",
        "    random_state=42\n",
        ")\n",
        "\n",
        "search.fit(X, y)\n",
        "\n",
        "print(\"Meilleurs paramètres :\", search.best_params_)\n",
        "print(\"Meilleur score CV (AUC) :\", search.best_score_)"
      ],
      "metadata": {
        "id": "0PuX9Cdrb81Y"
      },
      "execution_count": null,
      "outputs": []
    },
    {
      "cell_type": "markdown",
      "source": [
        "Notre exploration d’hyper‑paramètres XGBoost (subsample=0.6, n_estimators=50, max_depth=3, learning_rate=0.05, colsample_bytree=0.8) n’a pas dépassé l’AUC de 0.775 obtenue précédemment. On conclut donc que la version XGBoost + feature importance reste notre meilleur compromis performance/complexité.\n",
        "\n",
        "Bilan de la phase Modélisation\n",
        "\n",
        "Baseline (precip uniquement) : AUC ≈ 0.745\n",
        "\n",
        "Ajout sin/cos mois : AUC ≈ 0.760\n",
        "\n",
        "Rolling 3 j + heavy‑rain + RF : AUC ≈ 0.772\n",
        "\n",
        "XGBoost + rolling 5/7 j : AUC ≈ 0.779\n",
        "\n",
        "XGBoost + feature importance: AUC ≈ 0.775\n",
        "\n",
        "Hyper‑paramétrage XGBoost : AUC ≈ 0.774"
      ],
      "metadata": {
        "id": "ajXqiCrKdWhE"
      }
    },
    {
      "cell_type": "markdown",
      "source": [
        "Interface"
      ],
      "metadata": {
        "id": "uEuRVG3lewJq"
      }
    },
    {
      "cell_type": "code",
      "source": [
        "import joblib\n",
        "joblib.dump(bst_sel, 'model.bst')"
      ],
      "metadata": {
        "id": "NWZZauRQcfqM"
      },
      "execution_count": null,
      "outputs": []
    },
    {
      "cell_type": "code",
      "source": [
        "!pip install ipywidgets xgboost"
      ],
      "metadata": {
        "id": "pWfpct0PihyP"
      },
      "execution_count": null,
      "outputs": []
    },
    {
      "cell_type": "code",
      "source": [
        "%pip install -q colabcode\n",
        "from google.colab import output\n",
        "output.enable_custom_widget_manager()\n",
        "\n",
        "import joblib\n",
        "bst = joblib.load(\"model.bst\")\n",
        "\n",
        "import ipywidgets as widgets\n",
        "from IPython.display import display, clear_output\n",
        "import pandas as pd\n",
        "import xgboost as xgb\n",
        "\n",
        "precip_lag1_w   = widgets.FloatText(value=0.0, description='Précip hier (mm):')\n",
        "press_lag1_w    = widgets.FloatText(value=1013.0, description=\"Pression hier (hPa):\")\n",
        "precip_3d_sum_w = widgets.FloatText(value=0.0, description=\"Somme 3j pluie (mm):\")\n",
        "temp_lag1_w     = widgets.FloatText(value=15.0, description=\"Temp hier (°C):\")\n",
        "btn = widgets.Button(description=\"Prédire pluie demain\")\n",
        "\n",
        "out = widgets.Output()\n",
        "\n",
        "def on_predict(b):\n",
        "    with out:\n",
        "        clear_output()\n",
        "        df = pd.DataFrame([{\n",
        "            \"precip_lag1\": precip_lag1_w.value,\n",
        "            \"press_lag1\": press_lag1_w.value,\n",
        "            \"precip_3d_sum\": precip_3d_sum_w.value,\n",
        "            \"temp_lag1\": temp_lag1_w.value\n",
        "        }])\n",
        "        dmat = xgb.DMatrix(df)\n",
        "        prob = bst.predict(dmat)[0]\n",
        "        print(f\"→ Probabilité de pluie demain : {prob:.2%}\")\n",
        "\n",
        "btn.on_click(on_predict)\n",
        "\n",
        "ui = widgets.VBox([\n",
        "    precip_lag1_w,\n",
        "    press_lag1_w,\n",
        "    precip_3d_sum_w,\n",
        "    temp_lag1_w,\n",
        "    btn,\n",
        "    out\n",
        "])\n",
        "display(ui)"
      ],
      "metadata": {
        "id": "8cSxokNTiJLr"
      },
      "execution_count": null,
      "outputs": []
    }
  ],
  "metadata": {
    "colab": {
      "provenance": []
    },
    "kernelspec": {
      "display_name": "Python 3",
      "name": "python3"
    },
    "language_info": {
      "name": "python"
    }
  },
  "nbformat": 4,
  "nbformat_minor": 0
}